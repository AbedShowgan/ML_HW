{
 "cells": [
  {
   "cell_type": "markdown",
   "metadata": {
    "id": "g02uyRKMJdL_"
   },
   "source": [
    "# **Ex1 - Unsupervised learning**"
   ]
  },
  {
   "cell_type": "markdown",
   "metadata": {
    "id": "gSqx1-GWJcDY"
   },
   "source": [
    "## Names and IDs\n",
    "\n",
    "1.   212112106, Abed Shogan\n",
    "2.   209969245, Noam Shani"
   ]
  },
  {
   "cell_type": "markdown",
   "metadata": {
    "id": "4fdcpdvZMdJs"
   },
   "source": [
    "**Introduction**"
   ]
  },
  {
   "cell_type": "markdown",
   "metadata": {
    "id": "E565M8V0JiPx"
   },
   "source": [
    "In this assignment, we will focus on the practical application of unsupervised learning methods, specifically K-means clustering and Principal Component Analysis (PCA). The primary objective is to deepen your understanding of these algorithms and develop proficiency in their implementation using Python and relevant libraries."
   ]
  },
  {
   "cell_type": "markdown",
   "metadata": {
    "id": "MmZgvCtuMgfM"
   },
   "source": [
    "**Learning Objectives:**\n",
    "1.   **Load Local Files**: Implement techniques for\n",
    "     loading datasets from a local file system into Python.\n",
    "3.   **Data Visualization**: Apply various visualization techniques to interpret and present your data analysis findings effectively.\n",
    "4.   **Use Scikit-learn for K-means Clustering**: Use the Scikit-learn library to apply the K-means clustering algorithm.\n",
    "5.   **Implement Scikit-learn PCA**: Utilize PCA from Scikit-learn to perform dimensionality reduction, a critical technique for analyzing high-dimensional data.\n",
    "6.   **Algoritmic Understendig**: Solve the calculation problem whle using the algorithms learned in class.\n",
    "\n",
    "\n",
    "\n",
    "\n",
    "\n"
   ]
  },
  {
   "cell_type": "markdown",
   "metadata": {
    "id": "d35uo61hMmPG"
   },
   "source": [
    "\n",
    "**Important Guidelines:**\n",
    "\n",
    "**Thoroughly Read the Task Before Implementation:** Ensure to understand the entire assignment and its requirements before beginning to code. A comprehensive understanding will aid in a more structured and efficient approach to the tasks.\n",
    "\n",
    "**Code Reusability and Function Writing:** Focus on writing reusable code and functions. This practice is crucial for maintaining an organized, efficient, and easily debuggable codebase.\n",
    "\n",
    "\n",
    "\n",
    "\n",
    "\n",
    "\n",
    "\n",
    "\n",
    "\n",
    "\n",
    "\n",
    "\n",
    "\n",
    "\n",
    "\n",
    "\n",
    "\n",
    "\n",
    "\n"
   ]
  },
  {
   "cell_type": "markdown",
   "metadata": {
    "id": "TQqIK7IkOXUK"
   },
   "source": [
    "This assignment is designed to enhance both your theoretical understanding and practical skills in key areas of machine learning. Approach each task with diligence and attention to detail."
   ]
  },
  {
   "cell_type": "markdown",
   "metadata": {
    "id": "Esbc-ZiCO60h"
   },
   "source": [
    "## Import All Packages\n",
    "Add all imports needed for this notebook to run"
   ]
  },
  {
   "cell_type": "code",
   "execution_count": null,
   "metadata": {
    "id": "LLufnb-KI64u"
   },
   "outputs": [],
   "source": [
    "\n"
   ]
  },
  {
   "cell_type": "markdown",
   "metadata": {
    "id": "r8ssPm39Q5-6"
   },
   "source": [
    "## 1. Visualization (15 points)\n",
    "In this section, your task is to create and analyze **three** insightful visualizations based on the customer segmentation dataset. The purpose of these visualizations is to uncover underlying patterns and trends in the data that can inform strategic decisions. Your ability to interpret these visualizations will be key in understanding customer behaviors and preferences.\n",
    "\n",
    "*   You will get 4 points for the graph and 1 for the insight.\n",
    "\n"
   ]
  },
  {
   "cell_type": "code",
   "execution_count": 3,
   "metadata": {
    "id": "lwd7T5K-Q5ap"
   },
   "outputs": [],
   "source": [
    "# load the data\n"
   ]
  },
  {
   "cell_type": "code",
   "execution_count": 2,
   "metadata": {
    "id": "Q01Pg0E4aGZd"
   },
   "outputs": [],
   "source": [
    "# Graph 1 -\n"
   ]
  },
  {
   "cell_type": "markdown",
   "metadata": {
    "id": "8sWW3XfQX5_Y"
   },
   "source": [
    "**Insight** -"
   ]
  },
  {
   "cell_type": "code",
   "execution_count": 4,
   "metadata": {
    "id": "KDC-WccATcUJ"
   },
   "outputs": [],
   "source": [
    "# Graph 2 -\n"
   ]
  },
  {
   "cell_type": "markdown",
   "metadata": {
    "id": "6Luq8ewBWWsX"
   },
   "source": [
    "**Insight** -"
   ]
  },
  {
   "cell_type": "code",
   "execution_count": 5,
   "metadata": {
    "id": "4jIXZXKSTd4w"
   },
   "outputs": [],
   "source": [
    "# Graph 3 -\n"
   ]
  },
  {
   "cell_type": "markdown",
   "metadata": {
    "id": "uf0OCdmf5VZe"
   },
   "source": [
    "**Insight** -"
   ]
  },
  {
   "cell_type": "markdown",
   "metadata": {
    "id": "a4D5IfkoQpsB"
   },
   "source": [
    "## 2. KMEANS (35 points)\n",
    "\n",
    "In this exercise, you will implement K-means clustering on a comprehensive customer dataset, to identify distinct customer segments."
   ]
  },
  {
   "cell_type": "markdown",
   "metadata": {
    "id": "CuMf37LmjLEL"
   },
   "source": [
    "*   Load the data again.\n",
    "*   Scale the data using minmax scaler (2 points).\n",
    "*   Encode categorical variables (3 points).\n",
    "*   Apply k-Means algorithm on the 'MntMeatProducts' and 'MntWines' features using n_clusters=5\n",
    " (10 points).\n",
    "*   Visualize the clusters (5 points).\n",
    "*   Apply k-Means algorithm on all features and find the best k using 2 methods (10 points).\n",
    "*   Visualize the methods (5 points).\n",
    "\n",
    "\n",
    "\n",
    "\n",
    "\n",
    "\n",
    "\n",
    "\n"
   ]
  },
  {
   "cell_type": "code",
   "execution_count": 6,
   "metadata": {
    "id": "B8Z3hdGKQpaR"
   },
   "outputs": [],
   "source": [
    "# load the data\n"
   ]
  },
  {
   "cell_type": "code",
   "execution_count": 7,
   "metadata": {
    "id": "ANNPxKACQnwL"
   },
   "outputs": [],
   "source": [
    "# Scale the data using MinMaxScaler\n",
    "\n",
    "# Encode categorical variables\n"
   ]
  },
  {
   "cell_type": "code",
   "execution_count": 8,
   "metadata": {
    "id": "aigS0ZlGlBPn"
   },
   "outputs": [],
   "source": [
    "# Apply k-Means on the 'MntWines' and 'MntMeatProducts' features with n_clusters=5\n",
    "\n",
    "# Visualize the clusters\n"
   ]
  },
  {
   "cell_type": "markdown",
   "metadata": {
    "id": "RfPU_uMSpZ9l"
   },
   "source": [
    "### Elbow"
   ]
  },
  {
   "cell_type": "code",
   "execution_count": 8,
   "metadata": {
    "id": "KMPFkb91pZDD"
   },
   "outputs": [],
   "source": []
  },
  {
   "cell_type": "markdown",
   "metadata": {
    "id": "KSev7vbfqTw7"
   },
   "source": [
    "### Silhouette Score"
   ]
  },
  {
   "cell_type": "code",
   "execution_count": 8,
   "metadata": {
    "id": "F-NuZmpIsJNA"
   },
   "outputs": [],
   "source": []
  },
  {
   "cell_type": "markdown",
   "metadata": {
    "id": "-wefQVfhtCKs"
   },
   "source": [
    "## 3. PCA (15 points)\n",
    "In this exercise, you will implement PCA:\n",
    "*   With n_components = 2 (5 points).\n",
    "*   Visualize the PCA (5 points).\n",
    "*   Find the variance explined in this PCA (5 points).\n",
    "\n",
    "\n",
    "\n"
   ]
  },
  {
   "cell_type": "code",
   "execution_count": 9,
   "metadata": {
    "id": "lVdzsODntCpd"
   },
   "outputs": [],
   "source": [
    "# Adjust n_components as needed\n",
    "\n",
    "\n",
    "# Create a DataFrame with the principal components\n",
    "\n",
    "\n",
    "\n",
    "# Plotting the PCA\n",
    "\n",
    "\n",
    "# Display explained variance\n"
   ]
  },
  {
   "cell_type": "code",
   "execution_count": 9,
   "metadata": {
    "id": "K8fTt4Kl00C7"
   },
   "outputs": [],
   "source": []
  },
  {
   "cell_type": "markdown",
   "metadata": {
    "id": "PQTAlkFn040l"
   },
   "source": [
    "**Q**: What is the variance explained in the 2 component PCA?"
   ]
  },
  {
   "cell_type": "markdown",
   "metadata": {
    "id": "lmuwM57w1XY2"
   },
   "source": [
    "**A**:"
   ]
  },
  {
   "cell_type": "markdown",
   "metadata": {
    "id": "1FBNDN4M1_5R"
   },
   "source": [
    "## 4. PCA & Kmeans (20 points)\n",
    "This time, we will use the PCA data for the kmeans model.\n",
    "*   Run PCA with n_components = 2 (5 points)\n",
    "*   Find the best k for kmeans (5 points)\n",
    "*   Plot the best clusters (5 points)\n",
    "*   Answer the question (5 points)\n",
    "\n",
    "\n",
    "\n"
   ]
  },
  {
   "cell_type": "code",
   "execution_count": 9,
   "metadata": {
    "id": "g567KKzSzWYE"
   },
   "outputs": [],
   "source": []
  },
  {
   "cell_type": "markdown",
   "metadata": {
    "id": "uNRbRYwQ3F1p"
   },
   "source": [
    "### Elbow"
   ]
  },
  {
   "cell_type": "code",
   "execution_count": 9,
   "metadata": {
    "id": "MacHJeVg3DUM"
   },
   "outputs": [],
   "source": []
  },
  {
   "cell_type": "markdown",
   "metadata": {
    "id": "G79RYqGx3SX5"
   },
   "source": [
    "### Silhouette"
   ]
  },
  {
   "cell_type": "code",
   "execution_count": 9,
   "metadata": {
    "id": "IHgwpNnK3MHw"
   },
   "outputs": [],
   "source": []
  },
  {
   "cell_type": "markdown",
   "metadata": {
    "id": "wr9Czzz74Zrc"
   },
   "source": [
    "**Q**: In our human eye, it's looks like we need 5 clusters. But both methods return 2. Why do you think kmeans returning 2 and not 5?"
   ]
  },
  {
   "cell_type": "markdown",
   "metadata": {
    "id": "NQKf6VCk4szz"
   },
   "source": [
    "**A**:"
   ]
  },
  {
   "cell_type": "markdown",
   "metadata": {
    "id": "oPuoIFUzQTyl"
   },
   "source": [
    "## 5. K-means Clustering Exercise (15 points)\n",
    "Manually divide a given set of points into clusters using the K-means clustering."
   ]
  },
  {
   "cell_type": "markdown",
   "metadata": {
    "id": "UFYTbVgESk5i"
   },
   "source": [
    "You are given the following two-dimensional points: <br>\n",
    "*   A:(2,2)\n",
    "*   B:(2,6)\n",
    "*   C:(3,7)\n",
    "*   D:(5,5)\n",
    "*   E:(6,2)\n",
    "*   F:(7,4)\n",
    "*   G:(8,7)\n",
    "\n",
    "**Tasks:**\n",
    "1.   **Visualize the Data**: Plot these points and label each point for easy identification (3 points).\n",
    "2.   **Choose Initial Cluster Centers**: Arbitrarily select three points as initial cluster centers (For example, you might choose points A and D) and **Answer the questions** (12 points).\n",
    "\n",
    "\n",
    "\n",
    "\n",
    "\n",
    "\n",
    "\n",
    "\n",
    "\n"
   ]
  },
  {
   "cell_type": "code",
   "execution_count": 9,
   "metadata": {
    "id": "loZG5mEKVAqJ"
   },
   "outputs": [],
   "source": []
  },
  {
   "cell_type": "markdown",
   "metadata": {
    "id": "QIXBX71dV0sP"
   },
   "source": [
    "**Questions**:\n",
    "1.   How did the points group together in the final iteration?\n",
    "2.   Was choosing different initial cluster centers leading to different final clusters? Why might this happen?\n",
    "3.   Think of any real-world scenarios where K-means clustering could be useful?\n",
    "\n",
    "\n",
    "\n",
    "\n"
   ]
  },
  {
   "cell_type": "markdown",
   "metadata": {
    "id": "7a__DebSWTL-"
   },
   "source": [
    "**Answers**:\n",
    "\n"
   ]
  },
  {
   "cell_type": "markdown",
   "metadata": {
    "id": "KTyioTC96CSR"
   },
   "source": [
    "## 6. Bonus - Compute projection (5 points)\n",
    "**Notice:** No code required in this section.\n",
    "\n",
    "Given the next PCA projection matrix\n",
    "$\\begin{pmatrix}\n",
    "1 & 1\\\\\n",
    "2 & -1\n",
    "\\end{pmatrix}$\n",
    "And the correspoding egienvalues\n",
    "$(5, -1)$\n",
    "\n",
    "Compute the projection to one dimension of the next two vectors:\n",
    "\\begin{pmatrix}\n",
    "1 & 3\n",
    "\\end{pmatrix}\n",
    "\\begin{pmatrix}\n",
    "3 & 7\n",
    "\\end{pmatrix}"
   ]
  },
  {
   "cell_type": "code",
   "execution_count": null,
   "metadata": {
    "id": "MuMpJEjm6Sm2"
   },
   "outputs": [],
   "source": []
  }
 ],
 "metadata": {
  "colab": {
   "collapsed_sections": [
    "Esbc-ZiCO60h",
    "r8ssPm39Q5-6",
    "RfPU_uMSpZ9l",
    "KSev7vbfqTw7",
    "-wefQVfhtCKs",
    "1FBNDN4M1_5R",
    "uNRbRYwQ3F1p",
    "G79RYqGx3SX5"
   ],
   "provenance": []
  },
  "kernelspec": {
   "display_name": "Python 3 (ipykernel)",
   "language": "python",
   "name": "python3"
  },
  "language_info": {
   "codemirror_mode": {
    "name": "ipython",
    "version": 3
   },
   "file_extension": ".py",
   "mimetype": "text/x-python",
   "name": "python",
   "nbconvert_exporter": "python",
   "pygments_lexer": "ipython3",
   "version": "3.11.5"
  }
 },
 "nbformat": 4,
 "nbformat_minor": 1
}
